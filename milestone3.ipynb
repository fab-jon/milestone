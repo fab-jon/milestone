{
 "cells": [
  {
   "cell_type": "markdown",
   "id": "641eec0e-7b31-4114-960f-6cfc34cff96a",
   "metadata": {},
   "source": [
    "## Fabiolah Jones\n",
    "## 8/5/2025\n",
    "## Milestone #3 - Data Cleaning"
   ]
  },
  {
   "cell_type": "code",
   "execution_count": 11,
   "id": "916ed380-59e3-4e32-9e4d-980443e8dbf9",
   "metadata": {},
   "outputs": [],
   "source": [
    "import pandas as pd\n",
    "datafile = pd.read_csv(\"Perceptions_Of_School_Safety.csv\")"
   ]
  },
  {
   "cell_type": "markdown",
   "id": "bd264fe7-aafc-4efa-82b9-fd0965992195",
   "metadata": {},
   "source": [
    "## Renaming columns needed for analysis"
   ]
  },
  {
   "cell_type": "markdown",
   "id": "7caefc50-67b4-4b5f-bc09-aa4a06591f4d",
   "metadata": {},
   "source": [
    "### Does gender play a role in 7th grades feeling very safe at school?"
   ]
  },
  {
   "cell_type": "code",
   "execution_count": 18,
   "id": "a44749ac-a6fb-4891-8ee3-6cd009347429",
   "metadata": {},
   "outputs": [],
   "source": [
    "datafile.rename(columns = {\"Percent_of_Female_7th_Graders_W\" : \"female_7grade_very_safe\"}, inplace=True)\n",
    "datafile.rename(columns = {\"Percent_of_Male_7th_Graders_Who\" : \"male_7grade_very_safe\"}, inplace=True)"
   ]
  },
  {
   "cell_type": "markdown",
   "id": "a704dc39-c6b2-457b-be66-9c1d024233c9",
   "metadata": {},
   "source": [
    "### Does sexual orientation play a role in students feeling very unsafe at school?"
   ]
  },
  {
   "cell_type": "code",
   "execution_count": 19,
   "id": "83edceeb-97ed-4b16-b700-41670a431261",
   "metadata": {},
   "outputs": [],
   "source": [
    "datafile.rename(columns = {\"Percent_of_Gay_or_Lesbian_or__4\" : \"gay_lesbian_very_unsafe\"}, inplace=True)\n",
    "datafile.rename(columns = {\"Percent_of_Straight_Students__4\" : \"straight_very_unsafe\"}, inplace=True)\n",
    "datafile.rename(columns = {\"Percent_of_Students_Who_Are_N_4\" : \"unsure_very_unsafe\"}, inplace=True)"
   ]
  },
  {
   "cell_type": "markdown",
   "id": "fd36b6c0-1ce6-4d7c-a3ba-0c8f84bcae98",
   "metadata": {},
   "source": [
    "### What is the breakdown of safety perception of students who have a low level of connectedness to school?"
   ]
  },
  {
   "cell_type": "code",
   "execution_count": 51,
   "id": "c382efa8-f9a2-4431-84ec-d75d4ec07a30",
   "metadata": {},
   "outputs": [],
   "source": [
    "datafile.rename(columns = {'Percent_of_Students_With_Low_Le' : \"low_connect_very_safe\"}, inplace=True)\n",
    "datafile.rename(columns = {'Percent_of_Students_With_Low__1' : \"low_connect_safe\"}, inplace=True)\n",
    "datafile.rename(columns = {'Percent_of_Students_With_Low__2' : \"low_connect_neutral\"}, inplace=True)\n",
    "datafile.rename(columns = {'Percent_of_Students_With_Low__3' : \"low_connect_unsafe\"}, inplace=True)\n",
    "datafile.rename(columns = {'Percent_of_Students_With_Low__4' : \"low_connect_very_unsafe\"}, inplace=True)"
   ]
  },
  {
   "cell_type": "markdown",
   "id": "00601599-0b2a-4695-baa8-d72a7854526f",
   "metadata": {},
   "source": [
    "### Does the parents’ level of education affect students who feel neither safe nor unsafe?"
   ]
  },
  {
   "cell_type": "code",
   "execution_count": 52,
   "id": "ec119911-fa6f-4c1e-8e48-49074f560bd0",
   "metadata": {},
   "outputs": [],
   "source": [
    "datafile.rename(columns = {'Percent_of_Students_With_Pare_2' : \"parents_not_finish_high_school_neutral\"}, inplace=True)\n",
    "datafile.rename(columns = {'Percent_of_Students_With_Pare_7' : \"parents_finish_high_school_neutral\"}, inplace=True)\n",
    "datafile.rename(columns = {'Percent_of_Students_With_Par_12' : \"parents_some_college_neutral\"}, inplace=True)\n",
    "datafile.rename(columns = {'Percent_of_Students_With_Par_17' : \"parents_bachelors_neutral\"}, inplace=True)"
   ]
  },
  {
   "cell_type": "markdown",
   "id": "10e6c80c-9b45-4b1a-a856-a40e3c3bd806",
   "metadata": {},
   "source": [
    "### Does race play a role in students feeling safe?"
   ]
  },
  {
   "cell_type": "code",
   "execution_count": 53,
   "id": "1cc67ad4-5b46-4ab7-bd76-372c679503d9",
   "metadata": {},
   "outputs": [],
   "source": [
    "datafile.rename(columns = {'Percent_of_African_American_or1' : \"black_safe\"}, inplace=True)\n",
    "datafile.rename(columns = {'Percent_of_American_Indian_or_A' : \"native_american_safe\"}, inplace=True)\n",
    "datafile.rename(columns = {'Percent_of_Asian_Students_Who_1' : \"asian_safe\"}, inplace=True)\n",
    "datafile.rename(columns = {'Percent_of_Hispanic_or_Latino_1' : \"hispanic_safe\"}, inplace=True)\n",
    "datafile.rename(columns = {'Percent_of_Native_Hawaiin_or__1' : \"pacific_islander_safe\"}, inplace=True)\n",
    "datafile.rename(columns = {'Percent_of_White_Students_Who_1' : \"white_safe\"}, inplace=True)\n",
    "datafile.rename(columns = {'Percent_of_Multiracial_Studen_1' : \"multiracial_safe\"}, inplace=True)\n",
    "datafile.rename(columns = {'Percent_of_Other_Students_Who_1' : \"other_race_safe\"}, inplace=True)"
   ]
  },
  {
   "cell_type": "markdown",
   "id": "5d6377fd-2743-472a-8a49-1c06a06b6a14",
   "metadata": {},
   "source": [
    "### The rows with missing data should be removed in order to have an accurate analysis of the values we have. And because there many missing values it should not be replaced to prevent skewing the data."
   ]
  },
  {
   "cell_type": "code",
   "execution_count": 54,
   "id": "8b53327e-bb36-4c2d-b9eb-8e751cf3943a",
   "metadata": {
    "scrolled": true
   },
   "outputs": [],
   "source": [
    "datafile.dropna(inplace=True)"
   ]
  },
  {
   "cell_type": "markdown",
   "id": "6c7b64e2-13fa-450e-beda-018948608f51",
   "metadata": {},
   "source": [
    "### The original dataset had 253 rows. We now have 46 rows after removing the missing values."
   ]
  },
  {
   "cell_type": "code",
   "execution_count": 55,
   "id": "8a65d420-e963-4917-9573-bedb3719512d",
   "metadata": {},
   "outputs": [
    {
     "data": {
      "text/plain": [
       "(46, 154)"
      ]
     },
     "execution_count": 55,
     "metadata": {},
     "output_type": "execute_result"
    }
   ],
   "source": [
    "datafile.shape"
   ]
  },
  {
   "cell_type": "markdown",
   "id": "af6a2103-1bb7-4a59-9e04-06afc1a092f3",
   "metadata": {},
   "source": [
    "### Saving the selected columns into a new file"
   ]
  },
  {
   "cell_type": "code",
   "execution_count": 68,
   "id": "092aa392-3d0e-4d7e-92d3-b5bea854c017",
   "metadata": {},
   "outputs": [],
   "source": [
    "clean_school = datafile [[\"female_7grade_very_safe\", \"male_7grade_very_safe\", \"gay_lesbian_very_unsafe\", \"straight_very_unsafe\", \"unsure_very_unsafe\", \"low_connect_very_safe\", \"low_connect_safe\", \"low_connect_neutral\", \"low_connect_unsafe\", \"low_connect_very_unsafe\", \"parents_not_finish_high_school_neutral\", \"parents_finish_high_school_neutral\", \"parents_some_college_neutral\", \"parents_bachelors_neutral\", \"black_safe\", \"native_american_safe\", \"asian_safe\", \"hispanic_safe\", \"pacific_islander_safe\", \"white_safe\", \"multiracial_safe\", \"other_race_safe\"]]\n",
    "clean_school.to_csv(\"clean_school_perception.csv\", index = False)"
   ]
  },
  {
   "cell_type": "markdown",
   "id": "72997c16-6666-46a7-bb86-263d776a0b14",
   "metadata": {},
   "source": [
    "### A sample row from the cleaned dataset:"
   ]
  },
  {
   "cell_type": "code",
   "execution_count": 66,
   "id": "19ecf11f-9dc5-458e-a3da-bbb9640cd475",
   "metadata": {},
   "outputs": [
    {
     "data": {
      "text/html": [
       "<div>\n",
       "<style scoped>\n",
       "    .dataframe tbody tr th:only-of-type {\n",
       "        vertical-align: middle;\n",
       "    }\n",
       "\n",
       "    .dataframe tbody tr th {\n",
       "        vertical-align: top;\n",
       "    }\n",
       "\n",
       "    .dataframe thead th {\n",
       "        text-align: right;\n",
       "    }\n",
       "</style>\n",
       "<table border=\"1\" class=\"dataframe\">\n",
       "  <thead>\n",
       "    <tr style=\"text-align: right;\">\n",
       "      <th></th>\n",
       "      <th>female_7grade_very_safe</th>\n",
       "      <th>male_7grade_very_safe</th>\n",
       "      <th>gay_lesbian_very_unsafe</th>\n",
       "      <th>straight_very_unsafe</th>\n",
       "      <th>unsure_very_unsafe</th>\n",
       "      <th>low_connect_very_safe</th>\n",
       "      <th>low_connect_safe</th>\n",
       "      <th>low_connect_neutral</th>\n",
       "      <th>low_connect_unsafe</th>\n",
       "      <th>low_connect_very_unsafe</th>\n",
       "      <th>...</th>\n",
       "      <th>parents_some_college_neutral</th>\n",
       "      <th>parents_bachelors_neutral</th>\n",
       "      <th>black_safe</th>\n",
       "      <th>native_american_safe</th>\n",
       "      <th>asian_safe</th>\n",
       "      <th>hispanic_safe</th>\n",
       "      <th>pacific_islander_safe</th>\n",
       "      <th>white_safe</th>\n",
       "      <th>multiracial_safe</th>\n",
       "      <th>other_race_safe</th>\n",
       "    </tr>\n",
       "  </thead>\n",
       "  <tbody>\n",
       "    <tr>\n",
       "      <th>185</th>\n",
       "      <td>0.303</td>\n",
       "      <td>0.285</td>\n",
       "      <td>0.026</td>\n",
       "      <td>0.008</td>\n",
       "      <td>0.011</td>\n",
       "      <td>0.111</td>\n",
       "      <td>0.157</td>\n",
       "      <td>0.495</td>\n",
       "      <td>0.141</td>\n",
       "      <td>0.096</td>\n",
       "      <td>...</td>\n",
       "      <td>0.22</td>\n",
       "      <td>0.188</td>\n",
       "      <td>0.497</td>\n",
       "      <td>0.176</td>\n",
       "      <td>0.495</td>\n",
       "      <td>0.473</td>\n",
       "      <td>0.614</td>\n",
       "      <td>0.497</td>\n",
       "      <td>0.498</td>\n",
       "      <td>0.426</td>\n",
       "    </tr>\n",
       "  </tbody>\n",
       "</table>\n",
       "<p>1 rows × 22 columns</p>\n",
       "</div>"
      ],
      "text/plain": [
       "     female_7grade_very_safe  male_7grade_very_safe  gay_lesbian_very_unsafe  \\\n",
       "185                    0.303                  0.285                    0.026   \n",
       "\n",
       "     straight_very_unsafe  unsure_very_unsafe  low_connect_very_safe  \\\n",
       "185                 0.008               0.011                  0.111   \n",
       "\n",
       "     low_connect_safe  low_connect_neutral  low_connect_unsafe  \\\n",
       "185             0.157                0.495               0.141   \n",
       "\n",
       "     low_connect_very_unsafe  ...  parents_some_college_neutral  \\\n",
       "185                    0.096  ...                          0.22   \n",
       "\n",
       "     parents_bachelors_neutral  black_safe  native_american_safe  asian_safe  \\\n",
       "185                      0.188       0.497                 0.176       0.495   \n",
       "\n",
       "     hispanic_safe  pacific_islander_safe  white_safe  multiracial_safe  \\\n",
       "185          0.473                  0.614       0.497             0.498   \n",
       "\n",
       "     other_race_safe  \n",
       "185            0.426  \n",
       "\n",
       "[1 rows x 22 columns]"
      ]
     },
     "execution_count": 66,
     "metadata": {},
     "output_type": "execute_result"
    }
   ],
   "source": [
    "clean_school.sample()"
   ]
  },
  {
   "cell_type": "code",
   "execution_count": null,
   "id": "e4a5f7bb-f63e-4a0b-906e-c0be77a405e3",
   "metadata": {},
   "outputs": [],
   "source": []
  }
 ],
 "metadata": {
  "kernelspec": {
   "display_name": "anaconda-2024.02-py310",
   "language": "python",
   "name": "conda-env-anaconda-2024.02-py310-py"
  },
  "language_info": {
   "codemirror_mode": {
    "name": "ipython",
    "version": 3
   },
   "file_extension": ".py",
   "mimetype": "text/x-python",
   "name": "python",
   "nbconvert_exporter": "python",
   "pygments_lexer": "ipython3",
   "version": "3.10.14"
  }
 },
 "nbformat": 4,
 "nbformat_minor": 5
}
